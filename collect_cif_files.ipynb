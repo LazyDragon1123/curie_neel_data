{
 "cells": [
  {
   "cell_type": "code",
   "execution_count": 3,
   "metadata": {},
   "outputs": [],
   "source": [
    "import pickle\n",
    "import functools as f\n",
    "from pymatgen import MPRester\n",
    "from copy import deepcopy\n",
    "import pandas as pd\n",
    "import pymatgen as mg\n",
    "import pymatgen\n",
    "from pymatgen.analysis.structure_matcher import StructureMatcher\n",
    "from pymatgen.symmetry.analyzer import SpacegroupAnalyzer\n",
    "from pymatgen.core.structure import SiteCollection\n",
    "from pymatgen.core.bonds import CovalentBond, get_bond_length\n",
    "from pymatgen.util.coord import get_angle, all_distances, lattice_points_in_supercell\n",
    "import os\n",
    "import itertools\n",
    "\n",
    "API_KEY = \"oq6bIVf0EQMI6dun\"\n",
    "mp = MPRester(API_KEY)\n",
    "# save_path = '/Users/dragonlook/Dropbox (MIT)/MI/codes/MP_data/'\n",
    "df_data = pd.read_csv('tc_text_mining.csv')\n",
    "samples = df_data.name\n",
    "# samples = list(mag_list.Formula.dropna())\n",
    "# mag_elements = list(mag_list.mag_element.dropna())"
   ]
  },
  {
   "cell_type": "code",
   "execution_count": null,
   "metadata": {},
   "outputs": [],
   "source": [
    "cout = 0\n",
    "for compound_name in samples:\n",
    "    try:\n",
    "        compound_name = compound_name.strip()\n",
    "        data = mp.get_data(compound_name)\n",
    "        filename = './CIFs/' + compound_name\n",
    "        os.makedirs(filename,exist_ok=True)\n",
    "        if len(data) == 0:\n",
    "            cout += 1\n",
    "#         for d in data:\n",
    "#             fname = filename + '/' + compound_name + '_'+ str(cout) + '.cif'\n",
    "#             cout += 1\n",
    "#             with open(fname,'w') as f:\n",
    "#                 f.write(d['cif']) \n",
    "    except:\n",
    "        cout += 1\n",
    "        continue"
   ]
  },
  {
   "cell_type": "code",
   "execution_count": 2,
   "metadata": {},
   "outputs": [
    {
     "name": "stdout",
     "output_type": "stream",
     "text": [
      "3420\n"
     ]
    }
   ],
   "source": [
    "import os\n",
    "directory = os.listdir('./CIFs/')\n",
    "print(len(directory))"
   ]
  },
  {
   "cell_type": "code",
   "execution_count": 12,
   "metadata": {},
   "outputs": [
    {
     "name": "stdout",
     "output_type": "stream",
     "text": [
      "2186\n"
     ]
    }
   ],
   "source": [
    "cout = 0\n",
    "comps = []\n",
    "mp_flags = []\n",
    "for sample in samples:\n",
    "    try:\n",
    "        path = './CIFs/' + sample\n",
    "        directory = os.listdir(path)\n",
    "        if len(directory) > 0: \n",
    "            cout += 1\n",
    "            mp_flags.append(True)\n",
    "        else:\n",
    "            comps.append(sample)\n",
    "            mp_flags.append(False)\n",
    "    except:\n",
    "        comps.append(sample)\n",
    "        mp_flags.append(False)\n",
    "        continue\n",
    "print(cout)"
   ]
  },
  {
   "cell_type": "code",
   "execution_count": 18,
   "metadata": {},
   "outputs": [],
   "source": [
    "# df_data['mp_flags'] = mp_flags\n",
    "# import numpy as np\n",
    "# np.where(df_data.loc[:,'mp_flags'].to_list())[0]\n",
    "df_data_cif = df_data.iloc[np.where(df_data.loc[:,'mp_flags'].to_list())[0],:]"
   ]
  },
  {
   "cell_type": "code",
   "execution_count": 25,
   "metadata": {},
   "outputs": [],
   "source": [
    "df_data_cif.to_csv('tc_text_mining_mpcif.csv')"
   ]
  },
  {
   "cell_type": "code",
   "execution_count": null,
   "metadata": {},
   "outputs": [],
   "source": []
  }
 ],
 "metadata": {
  "kernelspec": {
   "display_name": "Python 3",
   "language": "python",
   "name": "python3"
  },
  "language_info": {
   "codemirror_mode": {
    "name": "ipython",
    "version": 3
   },
   "file_extension": ".py",
   "mimetype": "text/x-python",
   "name": "python",
   "nbconvert_exporter": "python",
   "pygments_lexer": "ipython3",
   "version": "3.7.4"
  }
 },
 "nbformat": 4,
 "nbformat_minor": 2
}
