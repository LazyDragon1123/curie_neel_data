{
 "cells": [
  {
   "cell_type": "code",
   "execution_count": 1,
   "id": "frozen-architect",
   "metadata": {},
   "outputs": [],
   "source": [
    "import pandas as pd\n",
    "\n",
    "df = pd.read_csv('tc_text_mining_mpcif.csv')\n",
    "df = df.drop('Unnamed: 0',axis=1)\n",
    "df['dum'] = range(len(df))"
   ]
  },
  {
   "cell_type": "code",
   "execution_count": 56,
   "id": "physical-morgan",
   "metadata": {},
   "outputs": [],
   "source": [
    "import os \n",
    "from os import listdir\n",
    "from shutil import copyfile\n",
    "\n",
    "\n",
    "dirs = './type_data_short'\n",
    "\n",
    "short_num = 10\n",
    "\n",
    "name = dirs + '/' + 'id_prop.csv'\n",
    "os.makedirs(dirs,exist_ok=True)\n",
    "type_df = df.loc[:,['dum','type']].iloc[:short_num]\n",
    "type_df.columns = ['ID','target']\n",
    "type_df = type_df.reset_index()\n",
    "type_df = type_df.loc[:,['ID','target']]\n",
    "type_df.to_csv(name,index=False,header=False)\n",
    "\n",
    "type_id_df = df.loc[:,['name','dum']]\n",
    "cifs_path = './CIFs/'\n",
    "\n",
    "for form_id, form in enumerate(type_id_df.loc[:,'name'].to_list()):\n",
    "    cif_form_path = cifs_path + form \n",
    "    src = cif_form_path + '/' + listdir(cif_form_path)[0]\n",
    "    dst = dirs + '/' + 'id' + str(form_id) + '.csv'\n",
    "    copyfile(src, dst)\n",
    "    if form_id == short_num -1:\n",
    "        break\n"
   ]
  },
  {
   "cell_type": "code",
   "execution_count": 60,
   "id": "recreational-consumption",
   "metadata": {},
   "outputs": [],
   "source": [
    "import os \n",
    "from os import listdir\n",
    "from shutil import copyfile\n",
    "\n",
    "\n",
    "dirs = './temperature_data_short'\n",
    "\n",
    "short_num = 10\n",
    "\n",
    "name = dirs + '/' + 'id_prop.csv'\n",
    "os.makedirs(dirs,exist_ok=True)\n",
    "type_df = df.loc[:,['dum','temperature']].iloc[:short_num]\n",
    "type_df.columns = ['ID','target']\n",
    "type_df = type_df.reset_index()\n",
    "type_df = type_df.loc[:,['ID','target']]\n",
    "type_df.to_csv(name,index=False,header=False)\n",
    "\n",
    "type_id_df = df.loc[:,['name','dum']]\n",
    "cifs_path = './CIFs/'\n",
    "\n",
    "for form_id, form in enumerate(type_id_df.loc[:,'name'].to_list()):\n",
    "    cif_form_path = cifs_path + form \n",
    "    src = cif_form_path + '/' + listdir(cif_form_path)[0]\n",
    "    dst = dirs + '/' + 'id' + str(form_id) + '.csv'\n",
    "    copyfile(src, dst)\n",
    "    if form_id == short_num -1:\n",
    "        break\n"
   ]
  },
  {
   "cell_type": "code",
   "execution_count": null,
   "id": "sustained-premises",
   "metadata": {},
   "outputs": [],
   "source": []
  }
 ],
 "metadata": {
  "kernelspec": {
   "display_name": "Python 3",
   "language": "python",
   "name": "python3"
  },
  "language_info": {
   "codemirror_mode": {
    "name": "ipython",
    "version": 3
   },
   "file_extension": ".py",
   "mimetype": "text/x-python",
   "name": "python",
   "nbconvert_exporter": "python",
   "pygments_lexer": "ipython3",
   "version": "3.8.6"
  }
 },
 "nbformat": 4,
 "nbformat_minor": 5
}
