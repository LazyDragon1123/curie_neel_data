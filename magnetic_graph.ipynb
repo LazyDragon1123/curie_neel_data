{
 "cells": [
  {
   "cell_type": "code",
   "execution_count": 3,
   "metadata": {},
   "outputs": [],
   "source": [
    "# transtions_flags = [ 'V', 'Cr', 'Mn', 'Fe', 'Co', 'Ni', 'Cu']\n",
    "# heavy_flags = ['La_flags', 'Ce_flags', 'Pr_flags', 'Nd_flags',\n",
    "#        'Pm_flags', 'Sm_flags', 'Eu_flags', 'Gd_flags', 'Tb_flags', 'Dy_flags',\n",
    "#        'Ho_flags', 'Er_flags', 'Tm_flags', 'Yb_flags', 'Lu_flags', 'Hf_flags']\n",
    "\n",
    "mag_elements = [ 'Ti', 'V', 'Cr', 'Mn', 'Fe', 'Co', 'Ni', 'Cu',\n",
    " 'Nb', 'Mo', 'Tc', 'Ru', 'Rh', 'Pd','Ce', 'Pr', 'Nd', 'Pm', 'Sm', 'Eu', 'Gd', 'Tb', 'Dy', 'Ho', 'Er', 'Tm', 'Yb', 'Hf', 'Ta', \n",
    " 'W', 'Re', 'Os', 'Ir', 'Hg', 'Tl', 'Pb', 'Po', 'At', 'Rn', 'Fr', 'Ra', 'Th', 'Pa', \n",
    " 'U', 'Np', 'Pu', 'Am', 'Cm', 'Bk', 'Cf', 'Es', 'Fm', 'Md', 'No']"
   ]
  },
  {
   "cell_type": "code",
   "execution_count": 4,
   "metadata": {},
   "outputs": [],
   "source": [
    "import os\n",
    "import pandas as pd\n",
    "from pymatgen.io.cif import CifParser\n",
    "\n",
    "path = 'tc_text_mining_mpcif.csv'\n",
    "samples = pd.read_csv(path).loc[:,'name'].to_list()"
   ]
  },
  {
   "cell_type": "code",
   "execution_count": 5,
   "metadata": {},
   "outputs": [
    {
     "name": "stderr",
     "output_type": "stream",
     "text": [
      "/Users/dragonlook/opt/anaconda3/envs/cgcnn/lib/python3.8/site-packages/pymatgen/core/periodic_table.py:314: UserWarning: No electronegativity for He. Setting to NaN. This has no physical meaning, and is mainly done to avoid errors caused by the code expecting a float.\n",
      "  warnings.warn(\n"
     ]
    }
   ],
   "source": [
    "# structure\n",
    "for sample in samples:\n",
    "#     try:\n",
    "    path = './CIFs/' + sample\n",
    "    directory = os.listdir(path)\n",
    "    directory = [i for i in directory if i[-7:] != 'mag.cif']\n",
    "    directory = [i for i in directory if i[-3:] == 'cif']\n",
    "\n",
    "    if len(directory) > 0: \n",
    "        for cif_dir in directory:\n",
    "            cif_dir = path + '/' + cif_dir\n",
    "            parser = CifParser(cif_dir)\n",
    "            structure = parser.get_structures()[0]\n",
    "\n",
    "            temp_inds = []\n",
    "            on_mags = []\n",
    "            non_mags = []\n",
    "            for ind in range(len(structure.species)):\n",
    "                if structure.species[ind].as_dict()['element'] in mag_elements:\n",
    "                    on_mags.append(ind)\n",
    "                else:\n",
    "                    non_mags.append(ind)\n",
    "\n",
    "            if len(non_mags) > 0:\n",
    "                structure.remove_sites(non_mags)\n",
    "\n",
    "            if len(on_mags) != 0:\n",
    "                filename = cif_dir[:-4] + '_mag.cif'\n",
    "                structure.to(fmt=\"cif\", filename=filename)\n",
    "            elif len(on_mags) == 0:\n",
    "                filename = cif_dir[:-4] + '_magno.cif'\n",
    "                dum = pd.DataFrame()\n",
    "                dum.to_csv(filename+'.csv')\n",
    "    else:\n",
    "        print(sample)\n",
    "        continue\n",
    "#     except Exception as e:\n",
    "#         print(e)\n",
    "#         continue"
   ]
  }
 ],
 "metadata": {
  "kernelspec": {
   "display_name": "Python 3",
   "language": "python",
   "name": "python3"
  },
  "language_info": {
   "codemirror_mode": {
    "name": "ipython",
    "version": 3
   },
   "file_extension": ".py",
   "mimetype": "text/x-python",
   "name": "python",
   "nbconvert_exporter": "python",
   "pygments_lexer": "ipython3",
   "version": "3.8.6"
  }
 },
 "nbformat": 4,
 "nbformat_minor": 2
}
